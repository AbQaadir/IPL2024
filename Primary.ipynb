{
 "cells": [
  {
   "cell_type": "markdown",
   "metadata": {},
   "source": [
    "#               Primary Insights"
   ]
  },
  {
   "cell_type": "code",
   "execution_count": 2,
   "metadata": {},
   "outputs": [],
   "source": [
    "import pandas as pd\n",
    "import numpy as np\n",
    "import matplotlib.pyplot as plt\n",
    "%matplotlib inline"
   ]
  },
  {
   "cell_type": "markdown",
   "metadata": {},
   "source": [
    "### Players"
   ]
  },
  {
   "cell_type": "code",
   "execution_count": 3,
   "metadata": {},
   "outputs": [
    {
     "data": {
      "text/html": [
       "<div>\n",
       "<style scoped>\n",
       "    .dataframe tbody tr th:only-of-type {\n",
       "        vertical-align: middle;\n",
       "    }\n",
       "\n",
       "    .dataframe tbody tr th {\n",
       "        vertical-align: top;\n",
       "    }\n",
       "\n",
       "    .dataframe thead th {\n",
       "        text-align: right;\n",
       "    }\n",
       "</style>\n",
       "<table border=\"1\" class=\"dataframe\">\n",
       "  <thead>\n",
       "    <tr style=\"text-align: right;\">\n",
       "      <th></th>\n",
       "      <th>name</th>\n",
       "      <th>team</th>\n",
       "      <th>battingStyle</th>\n",
       "      <th>bowlingStyle</th>\n",
       "      <th>playingRole</th>\n",
       "    </tr>\n",
       "  </thead>\n",
       "  <tbody>\n",
       "    <tr>\n",
       "      <th>0</th>\n",
       "      <td>RuturajGaikwad</td>\n",
       "      <td>Super Kings</td>\n",
       "      <td>Right hand Bat</td>\n",
       "      <td>Right arm Offbreak</td>\n",
       "      <td>Batter</td>\n",
       "    </tr>\n",
       "    <tr>\n",
       "      <th>1</th>\n",
       "      <td>FafduPlessis</td>\n",
       "      <td>Super Kings</td>\n",
       "      <td>Right hand Bat</td>\n",
       "      <td>Legbreak</td>\n",
       "      <td>Middle order Batter</td>\n",
       "    </tr>\n",
       "    <tr>\n",
       "      <th>2</th>\n",
       "      <td>RobinUthappa</td>\n",
       "      <td>Super Kings</td>\n",
       "      <td>Right hand Bat</td>\n",
       "      <td>Right arm Medium</td>\n",
       "      <td>Batter</td>\n",
       "    </tr>\n",
       "  </tbody>\n",
       "</table>\n",
       "</div>"
      ],
      "text/plain": [
       "             name         team    battingStyle        bowlingStyle  \\\n",
       "0  RuturajGaikwad  Super Kings  Right hand Bat  Right arm Offbreak   \n",
       "1    FafduPlessis  Super Kings  Right hand Bat            Legbreak   \n",
       "2    RobinUthappa  Super Kings  Right hand Bat    Right arm Medium   \n",
       "\n",
       "           playingRole  \n",
       "0               Batter  \n",
       "1  Middle order Batter  \n",
       "2               Batter  "
      ]
     },
     "execution_count": 3,
     "metadata": {},
     "output_type": "execute_result"
    }
   ],
   "source": [
    "players = pd.read_csv('dataset/dim_players.csv')\n",
    "players.head(3)"
   ]
  },
  {
   "cell_type": "markdown",
   "metadata": {},
   "source": [
    "### Batting Summary"
   ]
  },
  {
   "cell_type": "code",
   "execution_count": 4,
   "metadata": {},
   "outputs": [
    {
     "data": {
      "text/html": [
       "<div>\n",
       "<style scoped>\n",
       "    .dataframe tbody tr th:only-of-type {\n",
       "        vertical-align: middle;\n",
       "    }\n",
       "\n",
       "    .dataframe tbody tr th {\n",
       "        vertical-align: top;\n",
       "    }\n",
       "\n",
       "    .dataframe thead th {\n",
       "        text-align: right;\n",
       "    }\n",
       "</style>\n",
       "<table border=\"1\" class=\"dataframe\">\n",
       "  <thead>\n",
       "    <tr style=\"text-align: right;\">\n",
       "      <th></th>\n",
       "      <th>match_id</th>\n",
       "      <th>match</th>\n",
       "      <th>teamInnings</th>\n",
       "      <th>battingPos</th>\n",
       "      <th>batsmanName</th>\n",
       "      <th>out/not_out</th>\n",
       "      <th>runs</th>\n",
       "      <th>balls</th>\n",
       "      <th>4s</th>\n",
       "      <th>6s</th>\n",
       "      <th>SR</th>\n",
       "    </tr>\n",
       "  </thead>\n",
       "  <tbody>\n",
       "    <tr>\n",
       "      <th>0</th>\n",
       "      <td>T203817</td>\n",
       "      <td>Super Kings Vs KKR</td>\n",
       "      <td>Super Kings</td>\n",
       "      <td>1</td>\n",
       "      <td>RuturajGaikwad</td>\n",
       "      <td>out</td>\n",
       "      <td>32</td>\n",
       "      <td>27</td>\n",
       "      <td>3</td>\n",
       "      <td>1</td>\n",
       "      <td>118.51</td>\n",
       "    </tr>\n",
       "    <tr>\n",
       "      <th>1</th>\n",
       "      <td>T203817</td>\n",
       "      <td>Super Kings Vs KKR</td>\n",
       "      <td>Super Kings</td>\n",
       "      <td>2</td>\n",
       "      <td>FafduPlessis</td>\n",
       "      <td>out</td>\n",
       "      <td>86</td>\n",
       "      <td>59</td>\n",
       "      <td>7</td>\n",
       "      <td>3</td>\n",
       "      <td>145.76</td>\n",
       "    </tr>\n",
       "    <tr>\n",
       "      <th>2</th>\n",
       "      <td>T203817</td>\n",
       "      <td>Super Kings Vs KKR</td>\n",
       "      <td>Super Kings</td>\n",
       "      <td>3</td>\n",
       "      <td>RobinUthappa</td>\n",
       "      <td>out</td>\n",
       "      <td>31</td>\n",
       "      <td>15</td>\n",
       "      <td>0</td>\n",
       "      <td>3</td>\n",
       "      <td>206.66</td>\n",
       "    </tr>\n",
       "  </tbody>\n",
       "</table>\n",
       "</div>"
      ],
      "text/plain": [
       "  match_id               match  teamInnings  battingPos     batsmanName  \\\n",
       "0  T203817  Super Kings Vs KKR  Super Kings           1  RuturajGaikwad   \n",
       "1  T203817  Super Kings Vs KKR  Super Kings           2    FafduPlessis   \n",
       "2  T203817  Super Kings Vs KKR  Super Kings           3    RobinUthappa   \n",
       "\n",
       "  out/not_out  runs  balls  4s  6s      SR  \n",
       "0         out    32     27   3   1  118.51  \n",
       "1         out    86     59   7   3  145.76  \n",
       "2         out    31     15   0   3  206.66  "
      ]
     },
     "execution_count": 4,
     "metadata": {},
     "output_type": "execute_result"
    }
   ],
   "source": [
    "bating_summary = pd.read_csv('dataset/fact_bating_summary.csv')\n",
    "bating_summary.head(3)"
   ]
  },
  {
   "cell_type": "markdown",
   "metadata": {},
   "source": [
    "### Top 10 batsmen based on past 3 years total runs scored."
   ]
  },
  {
   "cell_type": "code",
   "execution_count": 5,
   "metadata": {},
   "outputs": [
    {
     "data": {
      "text/html": [
       "<div>\n",
       "<style scoped>\n",
       "    .dataframe tbody tr th:only-of-type {\n",
       "        vertical-align: middle;\n",
       "    }\n",
       "\n",
       "    .dataframe tbody tr th {\n",
       "        vertical-align: top;\n",
       "    }\n",
       "\n",
       "    .dataframe thead th {\n",
       "        text-align: right;\n",
       "    }\n",
       "</style>\n",
       "<table border=\"1\" class=\"dataframe\">\n",
       "  <thead>\n",
       "    <tr style=\"text-align: right;\">\n",
       "      <th></th>\n",
       "      <th>Batsman Name</th>\n",
       "      <th>Total Runs</th>\n",
       "    </tr>\n",
       "  </thead>\n",
       "  <tbody>\n",
       "    <tr>\n",
       "      <th>0</th>\n",
       "      <td>ShubmanGill</td>\n",
       "      <td>1851</td>\n",
       "    </tr>\n",
       "    <tr>\n",
       "      <th>1</th>\n",
       "      <td>FafduPlessis</td>\n",
       "      <td>1831</td>\n",
       "    </tr>\n",
       "    <tr>\n",
       "      <th>2</th>\n",
       "      <td>RuturajGaikwad</td>\n",
       "      <td>1593</td>\n",
       "    </tr>\n",
       "    <tr>\n",
       "      <th>3</th>\n",
       "      <td>KLRahul</td>\n",
       "      <td>1516</td>\n",
       "    </tr>\n",
       "    <tr>\n",
       "      <th>4</th>\n",
       "      <td>JosButtler</td>\n",
       "      <td>1509</td>\n",
       "    </tr>\n",
       "    <tr>\n",
       "      <th>5</th>\n",
       "      <td>ShikharDhawan</td>\n",
       "      <td>1392</td>\n",
       "    </tr>\n",
       "    <tr>\n",
       "      <th>6</th>\n",
       "      <td>ViratKohli</td>\n",
       "      <td>1385</td>\n",
       "    </tr>\n",
       "    <tr>\n",
       "      <th>7</th>\n",
       "      <td>SanjuSamson</td>\n",
       "      <td>1304</td>\n",
       "    </tr>\n",
       "    <tr>\n",
       "      <th>8</th>\n",
       "      <td>SuryakumarYadav</td>\n",
       "      <td>1225</td>\n",
       "    </tr>\n",
       "    <tr>\n",
       "      <th>9</th>\n",
       "      <td>GlennMaxwell</td>\n",
       "      <td>1214</td>\n",
       "    </tr>\n",
       "  </tbody>\n",
       "</table>\n",
       "</div>"
      ],
      "text/plain": [
       "      Batsman Name  Total Runs\n",
       "0      ShubmanGill        1851\n",
       "1     FafduPlessis        1831\n",
       "2   RuturajGaikwad        1593\n",
       "3          KLRahul        1516\n",
       "4       JosButtler        1509\n",
       "5    ShikharDhawan        1392\n",
       "6       ViratKohli        1385\n",
       "7      SanjuSamson        1304\n",
       "8  SuryakumarYadav        1225\n",
       "9     GlennMaxwell        1214"
      ]
     },
     "execution_count": 5,
     "metadata": {},
     "output_type": "execute_result"
    }
   ],
   "source": [
    "# Assuming bating_summary is your DataFrame containing batsmen's data\n",
    "# and it has columns 'batsmanName' and 'runs'\n",
    "\n",
    "# Assuming top_10_batsmen is already calculated using groupby and nlargest\n",
    "top_10_batsmen = bating_summary.groupby('batsmanName')['runs'].sum().nlargest(10)\n",
    "\n",
    "# Convert the Series to DataFrame with specified columns\n",
    "top_10_batsmen_df = pd.DataFrame({'Batsman Name': top_10_batsmen.index,\n",
    "                                  'Total Runs': top_10_batsmen.values})\n",
    "\n",
    "top_10_batsmen_df\n"
   ]
  },
  {
   "cell_type": "markdown",
   "metadata": {},
   "source": [
    "### Visualization"
   ]
  },
  {
   "cell_type": "code",
   "execution_count": 6,
   "metadata": {},
   "outputs": [
    {
     "data": {
      "image/png": "[encoded data removed]",
      "text/plain": [
       "<Figure size 1000x600 with 1 Axes>"
      ]
     },
     "metadata": {},
     "output_type": "display_data"
    }
   ],
   "source": [
    "# Plotting the top 10 batsmen based on total runs scored in the past 3 years.\n",
    "\n",
    "top_10_batsmen.plot(kind='barh', figsize=(10, 6), color='skyblue', edgecolor='black', linewidth=1.2, zorder=2)\n",
    "plt.xlabel('Total Runs')\n",
    "plt.ylabel('Batsmen')\n",
    "plt.title('Top 10 Batsmen Based on Total Runs (Past 3 Years)')\n",
    "plt.gca().invert_yaxis()  # Invert y-axis to have the highest average at the top\n",
    "plt.grid(axis='x', linestyle='--', alpha=0.7)\n",
    "plt.show()"
   ]
  },
  {
   "cell_type": "markdown",
   "metadata": {},
   "source": [
    "### Match Summary"
   ]
  },
  {
   "cell_type": "code",
   "execution_count": 7,
   "metadata": {},
   "outputs": [
    {
     "data": {
      "text/html": [
       "<div>\n",
       "<style scoped>\n",
       "    .dataframe tbody tr th:only-of-type {\n",
       "        vertical-align: middle;\n",
       "    }\n",
       "\n",
       "    .dataframe tbody tr th {\n",
       "        vertical-align: top;\n",
       "    }\n",
       "\n",
       "    .dataframe thead th {\n",
       "        text-align: right;\n",
       "    }\n",
       "</style>\n",
       "<table border=\"1\" class=\"dataframe\">\n",
       "  <thead>\n",
       "    <tr style=\"text-align: right;\">\n",
       "      <th></th>\n",
       "      <th>team1</th>\n",
       "      <th>team2</th>\n",
       "      <th>winner</th>\n",
       "      <th>margin</th>\n",
       "      <th>matchDate</th>\n",
       "      <th>match_id</th>\n",
       "    </tr>\n",
       "  </thead>\n",
       "  <tbody>\n",
       "    <tr>\n",
       "      <th>0</th>\n",
       "      <td>Super Kings</td>\n",
       "      <td>KKR</td>\n",
       "      <td>Super Kings</td>\n",
       "      <td>27 runs</td>\n",
       "      <td>Oct 15, 2021</td>\n",
       "      <td>T203817</td>\n",
       "    </tr>\n",
       "    <tr>\n",
       "      <th>1</th>\n",
       "      <td>Capitals</td>\n",
       "      <td>KKR</td>\n",
       "      <td>KKR</td>\n",
       "      <td>3 wickets</td>\n",
       "      <td>Oct 13, 2021</td>\n",
       "      <td>T206442</td>\n",
       "    </tr>\n",
       "    <tr>\n",
       "      <th>2</th>\n",
       "      <td>RCB</td>\n",
       "      <td>KKR</td>\n",
       "      <td>KKR</td>\n",
       "      <td>4 wickets</td>\n",
       "      <td>Oct 11, 2021</td>\n",
       "      <td>T208597</td>\n",
       "    </tr>\n",
       "  </tbody>\n",
       "</table>\n",
       "</div>"
      ],
      "text/plain": [
       "         team1 team2       winner     margin     matchDate match_id\n",
       "0  Super Kings   KKR  Super Kings    27 runs  Oct 15, 2021  T203817\n",
       "1     Capitals   KKR          KKR  3 wickets  Oct 13, 2021  T206442\n",
       "2          RCB   KKR          KKR  4 wickets  Oct 11, 2021  T208597"
      ]
     },
     "execution_count": 7,
     "metadata": {},
     "output_type": "execute_result"
    }
   ],
   "source": [
    "# Read Match Summary\n",
    "\n",
    "match_summary = pd.read_csv('dataset/dim_match_summary.csv')\n",
    "match_summary.head(3)"
   ]
  },
  {
   "cell_type": "code",
   "execution_count": 11,
   "metadata": {},
   "outputs": [
    {
     "data": {
      "text/html": [
       "<div>\n",
       "<style scoped>\n",
       "    .dataframe tbody tr th:only-of-type {\n",
       "        vertical-align: middle;\n",
       "    }\n",
       "\n",
       "    .dataframe tbody tr th {\n",
       "        vertical-align: top;\n",
       "    }\n",
       "\n",
       "    .dataframe thead th {\n",
       "        text-align: right;\n",
       "    }\n",
       "</style>\n",
       "<table border=\"1\" class=\"dataframe\">\n",
       "  <thead>\n",
       "    <tr style=\"text-align: right;\">\n",
       "      <th></th>\n",
       "      <th>match_id</th>\n",
       "      <th>match</th>\n",
       "      <th>teamInnings</th>\n",
       "      <th>battingPos</th>\n",
       "      <th>batsmanName</th>\n",
       "      <th>out/not_out</th>\n",
       "      <th>runs</th>\n",
       "      <th>balls</th>\n",
       "      <th>4s</th>\n",
       "      <th>6s</th>\n",
       "      <th>SR</th>\n",
       "    </tr>\n",
       "  </thead>\n",
       "  <tbody>\n",
       "    <tr>\n",
       "      <th>0</th>\n",
       "      <td>T203817</td>\n",
       "      <td>Super Kings Vs KKR</td>\n",
       "      <td>Super Kings</td>\n",
       "      <td>1</td>\n",
       "      <td>RuturajGaikwad</td>\n",
       "      <td>out</td>\n",
       "      <td>32</td>\n",
       "      <td>27</td>\n",
       "      <td>3</td>\n",
       "      <td>1</td>\n",
       "      <td>118.51</td>\n",
       "    </tr>\n",
       "    <tr>\n",
       "      <th>1</th>\n",
       "      <td>T203817</td>\n",
       "      <td>Super Kings Vs KKR</td>\n",
       "      <td>Super Kings</td>\n",
       "      <td>2</td>\n",
       "      <td>FafduPlessis</td>\n",
       "      <td>out</td>\n",
       "      <td>86</td>\n",
       "      <td>59</td>\n",
       "      <td>7</td>\n",
       "      <td>3</td>\n",
       "      <td>145.76</td>\n",
       "    </tr>\n",
       "    <tr>\n",
       "      <th>2</th>\n",
       "      <td>T203817</td>\n",
       "      <td>Super Kings Vs KKR</td>\n",
       "      <td>Super Kings</td>\n",
       "      <td>3</td>\n",
       "      <td>RobinUthappa</td>\n",
       "      <td>out</td>\n",
       "      <td>31</td>\n",
       "      <td>15</td>\n",
       "      <td>0</td>\n",
       "      <td>3</td>\n",
       "      <td>206.66</td>\n",
       "    </tr>\n",
       "  </tbody>\n",
       "</table>\n",
       "</div>"
      ],
      "text/plain": [
       "  match_id               match  teamInnings  battingPos     batsmanName  \\\n",
       "0  T203817  Super Kings Vs KKR  Super Kings           1  RuturajGaikwad   \n",
       "1  T203817  Super Kings Vs KKR  Super Kings           2    FafduPlessis   \n",
       "2  T203817  Super Kings Vs KKR  Super Kings           3    RobinUthappa   \n",
       "\n",
       "  out/not_out  runs  balls  4s  6s      SR  \n",
       "0         out    32     27   3   1  118.51  \n",
       "1         out    86     59   7   3  145.76  \n",
       "2         out    31     15   0   3  206.66  "
      ]
     },
     "execution_count": 11,
     "metadata": {},
     "output_type": "execute_result"
    }
   ],
   "source": [
    "batting_summary = pd.read_csv('dataset/fact_bating_summary.csv')\n",
    "batting_summary.head(3)\n"
   ]
  },
  {
   "cell_type": "markdown",
   "metadata": {},
   "source": [
    "#### Merge batting Summary and Match Summary on Match ID"
   ]
  },
  {
   "cell_type": "code",
   "execution_count": 12,
   "metadata": {},
   "outputs": [
    {
     "data": {
      "text/html": [
       "<div>\n",
       "<style scoped>\n",
       "    .dataframe tbody tr th:only-of-type {\n",
       "        vertical-align: middle;\n",
       "    }\n",
       "\n",
       "    .dataframe tbody tr th {\n",
       "        vertical-align: top;\n",
       "    }\n",
       "\n",
       "    .dataframe thead th {\n",
       "        text-align: right;\n",
       "    }\n",
       "</style>\n",
       "<table border=\"1\" class=\"dataframe\">\n",
       "  <thead>\n",
       "    <tr style=\"text-align: right;\">\n",
       "      <th></th>\n",
       "      <th>match_id</th>\n",
       "      <th>match</th>\n",
       "      <th>teamInnings</th>\n",
       "      <th>battingPos</th>\n",
       "      <th>batsmanName</th>\n",
       "      <th>out/not_out</th>\n",
       "      <th>runs</th>\n",
       "      <th>balls</th>\n",
       "      <th>4s</th>\n",
       "      <th>6s</th>\n",
       "      <th>SR</th>\n",
       "      <th>matchDate</th>\n",
       "    </tr>\n",
       "  </thead>\n",
       "  <tbody>\n",
       "    <tr>\n",
       "      <th>0</th>\n",
       "      <td>T203817</td>\n",
       "      <td>Super Kings Vs KKR</td>\n",
       "      <td>Super Kings</td>\n",
       "      <td>1</td>\n",
       "      <td>RuturajGaikwad</td>\n",
       "      <td>out</td>\n",
       "      <td>32</td>\n",
       "      <td>27</td>\n",
       "      <td>3</td>\n",
       "      <td>1</td>\n",
       "      <td>118.51</td>\n",
       "      <td>Oct 15, 2021</td>\n",
       "    </tr>\n",
       "    <tr>\n",
       "      <th>1</th>\n",
       "      <td>T203817</td>\n",
       "      <td>Super Kings Vs KKR</td>\n",
       "      <td>Super Kings</td>\n",
       "      <td>2</td>\n",
       "      <td>FafduPlessis</td>\n",
       "      <td>out</td>\n",
       "      <td>86</td>\n",
       "      <td>59</td>\n",
       "      <td>7</td>\n",
       "      <td>3</td>\n",
       "      <td>145.76</td>\n",
       "      <td>Oct 15, 2021</td>\n",
       "    </tr>\n",
       "    <tr>\n",
       "      <th>2</th>\n",
       "      <td>T203817</td>\n",
       "      <td>Super Kings Vs KKR</td>\n",
       "      <td>Super Kings</td>\n",
       "      <td>3</td>\n",
       "      <td>RobinUthappa</td>\n",
       "      <td>out</td>\n",
       "      <td>31</td>\n",
       "      <td>15</td>\n",
       "      <td>0</td>\n",
       "      <td>3</td>\n",
       "      <td>206.66</td>\n",
       "      <td>Oct 15, 2021</td>\n",
       "    </tr>\n",
       "  </tbody>\n",
       "</table>\n",
       "</div>"
      ],
      "text/plain": [
       "  match_id               match  teamInnings  battingPos     batsmanName  \\\n",
       "0  T203817  Super Kings Vs KKR  Super Kings           1  RuturajGaikwad   \n",
       "1  T203817  Super Kings Vs KKR  Super Kings           2    FafduPlessis   \n",
       "2  T203817  Super Kings Vs KKR  Super Kings           3    RobinUthappa   \n",
       "\n",
       "  out/not_out  runs  balls  4s  6s      SR     matchDate  \n",
       "0         out    32     27   3   1  118.51  Oct 15, 2021  \n",
       "1         out    86     59   7   3  145.76  Oct 15, 2021  \n",
       "2         out    31     15   0   3  206.66  Oct 15, 2021  "
      ]
     },
     "execution_count": 12,
     "metadata": {},
     "output_type": "execute_result"
    }
   ],
   "source": [
    "# merge the batting_summary and match_summary dataframes on match_id column.\n",
    "\n",
    "batting_summary = batting_summary.merge(match_summary[['match_id', 'matchDate']], on='match_id')\n",
    "batting_summary.head(3)"
   ]
  },
  {
   "cell_type": "markdown",
   "metadata": {},
   "source": [
    "#### Top 10 batsmen based on past 3 years batting average. (min 60 balls faced in each season)"
   ]
  },
  {
   "cell_type": "code",
   "execution_count": 13,
   "metadata": {},
   "outputs": [
    {
     "data": {
      "text/html": [
       "<div>\n",
       "<style scoped>\n",
       "    .dataframe tbody tr th:only-of-type {\n",
       "        vertical-align: middle;\n",
       "    }\n",
       "\n",
       "    .dataframe tbody tr th {\n",
       "        vertical-align: top;\n",
       "    }\n",
       "\n",
       "    .dataframe thead th {\n",
       "        text-align: right;\n",
       "    }\n",
       "</style>\n",
       "<table border=\"1\" class=\"dataframe\">\n",
       "  <thead>\n",
       "    <tr style=\"text-align: right;\">\n",
       "      <th></th>\n",
       "      <th>Batsman Name</th>\n",
       "      <th>Average</th>\n",
       "    </tr>\n",
       "  </thead>\n",
       "  <tbody>\n",
       "    <tr>\n",
       "      <th>0</th>\n",
       "      <td>HeinrichKlaasen</td>\n",
       "      <td>40.73</td>\n",
       "    </tr>\n",
       "    <tr>\n",
       "      <th>1</th>\n",
       "      <td>DevonConway</td>\n",
       "      <td>40.40</td>\n",
       "    </tr>\n",
       "    <tr>\n",
       "      <th>2</th>\n",
       "      <td>FafduPlessis</td>\n",
       "      <td>40.32</td>\n",
       "    </tr>\n",
       "    <tr>\n",
       "      <th>3</th>\n",
       "      <td>KLRahul</td>\n",
       "      <td>39.89</td>\n",
       "    </tr>\n",
       "    <tr>\n",
       "      <th>4</th>\n",
       "      <td>JosButtler</td>\n",
       "      <td>38.35</td>\n",
       "    </tr>\n",
       "    <tr>\n",
       "      <th>5</th>\n",
       "      <td>SaiSudharsan</td>\n",
       "      <td>37.12</td>\n",
       "    </tr>\n",
       "    <tr>\n",
       "      <th>6</th>\n",
       "      <td>ShubmanGill</td>\n",
       "      <td>36.89</td>\n",
       "    </tr>\n",
       "    <tr>\n",
       "      <th>7</th>\n",
       "      <td>RuturajGaikwad</td>\n",
       "      <td>35.10</td>\n",
       "    </tr>\n",
       "    <tr>\n",
       "      <th>8</th>\n",
       "      <td>ShikharDhawan</td>\n",
       "      <td>34.68</td>\n",
       "    </tr>\n",
       "    <tr>\n",
       "      <th>9</th>\n",
       "      <td>DavidWarner</td>\n",
       "      <td>33.29</td>\n",
       "    </tr>\n",
       "  </tbody>\n",
       "</table>\n",
       "</div>"
      ],
      "text/plain": [
       "      Batsman Name  Average\n",
       "0  HeinrichKlaasen    40.73\n",
       "1      DevonConway    40.40\n",
       "2     FafduPlessis    40.32\n",
       "3          KLRahul    39.89\n",
       "4       JosButtler    38.35\n",
       "5     SaiSudharsan    37.12\n",
       "6      ShubmanGill    36.89\n",
       "7   RuturajGaikwad    35.10\n",
       "8    ShikharDhawan    34.68\n",
       "9      DavidWarner    33.29"
      ]
     },
     "execution_count": 13,
     "metadata": {},
     "output_type": "execute_result"
    }
   ],
   "source": [
    "# Assuming batting_summary is your DataFrame containing batting data and it has columns 'matchDate', 'batsmanName', 'balls', and 'runs'\n",
    "\n",
    "# Filter the batting_summary dataframe to include only the qualified batsmen for each year\n",
    "qualified_batsmen = batting_summary.groupby([batting_summary['matchDate'].str[-4:], 'batsmanName']).filter(lambda x: x['balls'].sum() >= 60)\n",
    "\n",
    "# Calculate the batting average for each year\n",
    "batting_average = qualified_batsmen.groupby([qualified_batsmen['matchDate'].str[-4:], 'batsmanName'])['runs'].mean()\n",
    "\n",
    "# Reshape the data to have years as columns and batsmen as rows\n",
    "batting_average_pivot = batting_average.unstack(level=0)\n",
    "\n",
    "# Get the mean across the years for each batsman\n",
    "mean_batting_average = batting_average_pivot.mean(axis=1).round(2)\n",
    "\n",
    "# Get the top 10 batsmen based on mean batting average\n",
    "top_10_batsmen_avg = mean_batting_average.nlargest(10)\n",
    "\n",
    "# Convert the Series to DataFrame with specified columns\n",
    "top_10_batsmen_avg_df = pd.DataFrame({'Batsman Name': top_10_batsmen_avg.index,\n",
    "                                      'Average': top_10_batsmen_avg.values})\n",
    "\n",
    "top_10_batsmen_avg_df\n"
   ]
  },
  {
   "cell_type": "markdown",
   "metadata": {},
   "source": [
    "### Visualization"
   ]
  },
  {
   "cell_type": "code",
   "execution_count": 14,
   "metadata": {},
   "outputs": [
    {
     "data": {
      "image/png": "[encoded data removed]",
      "text/plain": [
       "<Figure size 1000x600 with 1 Axes>"
      ]
     },
     "metadata": {},
     "output_type": "display_data"
    }
   ],
   "source": [
    "# Plotting the top 10 batsmen based on batting average in the past 3 years.\n",
    "\n",
    "top_10_batsmen_avg.plot(kind='barh', figsize=(10, 6), color='skyblue', edgecolor='black', linewidth=1.2, zorder=2)\n",
    "plt.xlabel('Batting Average')\n",
    "plt.ylabel('Batsmen')\n",
    "plt.title('Top 10 Batsmen Based on Batting Average (Past 3 Years)')\n",
    "plt.gca().invert_yaxis()  # Invert y-axis to have the highest average at the top\n",
    "plt.grid(axis='x', linestyle='--', alpha=0.7)\n",
    "plt.show()"
   ]
  },
  {
   "cell_type": "markdown",
   "metadata": {},
   "source": [
    "#### Top 10 batsmen based on past 3 years strike rate (min 60 balls faced in each season)"
   ]
  },
  {
   "cell_type": "code",
   "execution_count": 15,
   "metadata": {},
   "outputs": [
    {
     "data": {
      "text/html": [
       "<div>\n",
       "<style scoped>\n",
       "    .dataframe tbody tr th:only-of-type {\n",
       "        vertical-align: middle;\n",
       "    }\n",
       "\n",
       "    .dataframe tbody tr th {\n",
       "        vertical-align: top;\n",
       "    }\n",
       "\n",
       "    .dataframe thead th {\n",
       "        text-align: right;\n",
       "    }\n",
       "</style>\n",
       "<table border=\"1\" class=\"dataframe\">\n",
       "  <thead>\n",
       "    <tr style=\"text-align: right;\">\n",
       "      <th></th>\n",
       "      <th>Batsman Name</th>\n",
       "      <th>Strike Rate</th>\n",
       "    </tr>\n",
       "  </thead>\n",
       "  <tbody>\n",
       "    <tr>\n",
       "      <th>0</th>\n",
       "      <td>HeinrichKlaasen</td>\n",
       "      <td>182.17</td>\n",
       "    </tr>\n",
       "    <tr>\n",
       "      <th>1</th>\n",
       "      <td>EvinLewis</td>\n",
       "      <td>165.90</td>\n",
       "    </tr>\n",
       "    <tr>\n",
       "      <th>2</th>\n",
       "      <td>TimDavid</td>\n",
       "      <td>160.44</td>\n",
       "    </tr>\n",
       "    <tr>\n",
       "      <th>3</th>\n",
       "      <td>JiteshSharma</td>\n",
       "      <td>157.71</td>\n",
       "    </tr>\n",
       "    <tr>\n",
       "      <th>4</th>\n",
       "      <td>GlennMaxwell</td>\n",
       "      <td>150.93</td>\n",
       "    </tr>\n",
       "    <tr>\n",
       "      <th>5</th>\n",
       "      <td>VijayShankar</td>\n",
       "      <td>149.70</td>\n",
       "    </tr>\n",
       "    <tr>\n",
       "      <th>6</th>\n",
       "      <td>LiamLivingstone</td>\n",
       "      <td>148.60</td>\n",
       "    </tr>\n",
       "    <tr>\n",
       "      <th>7</th>\n",
       "      <td>DhruvJurel</td>\n",
       "      <td>146.30</td>\n",
       "    </tr>\n",
       "    <tr>\n",
       "      <th>8</th>\n",
       "      <td>SaurabhTiwary</td>\n",
       "      <td>144.99</td>\n",
       "    </tr>\n",
       "    <tr>\n",
       "      <th>9</th>\n",
       "      <td>RishabhPant</td>\n",
       "      <td>144.16</td>\n",
       "    </tr>\n",
       "  </tbody>\n",
       "</table>\n",
       "</div>"
      ],
      "text/plain": [
       "      Batsman Name  Strike Rate\n",
       "0  HeinrichKlaasen       182.17\n",
       "1        EvinLewis       165.90\n",
       "2         TimDavid       160.44\n",
       "3     JiteshSharma       157.71\n",
       "4     GlennMaxwell       150.93\n",
       "5     VijayShankar       149.70\n",
       "6  LiamLivingstone       148.60\n",
       "7       DhruvJurel       146.30\n",
       "8    SaurabhTiwary       144.99\n",
       "9      RishabhPant       144.16"
      ]
     },
     "execution_count": 15,
     "metadata": {},
     "output_type": "execute_result"
    }
   ],
   "source": [
    "# Filter the batting_summary dataframe to include only the qualified batsmen for each year\n",
    "qualified_batsmen = batting_summary.groupby([batting_summary['matchDate'].str[-4:], 'batsmanName']).filter(lambda x: x['balls'].sum() >= 60)\n",
    "\n",
    "# change the datatype of the SR column to float\n",
    "qualified_batsmen['SR'] = qualified_batsmen['SR'].str.replace('-', '0').astype(float)\n",
    "\n",
    "# Calculate the batting average for each year\n",
    "batting_average = qualified_batsmen.groupby([qualified_batsmen['matchDate'].str[-4:], 'batsmanName'])['SR'].mean()\n",
    "\n",
    "# Reshape the data to have years as columns and batsmen as rows\n",
    "batting_average_pivot = batting_average.unstack(level=0)\n",
    "\n",
    "# Get the mean across the years for each batsman\n",
    "mean_batting_average = batting_average_pivot.mean(axis=1).round(2)\n",
    "\n",
    "# Get the top 10 batsmen based on mean batting average\n",
    "top_10_batsmen_avg = mean_batting_average.nlargest(10)\n",
    "\n",
    "# Convert the Series to DataFrame with specified columns\n",
    "top_10_batsmen_avg_df = pd.DataFrame({'Batsman Name': top_10_batsmen_avg.index,\n",
    "                                      'Strike Rate': top_10_batsmen_avg.values})\n",
    "\n",
    "top_10_batsmen_avg_df"
   ]
  },
  {
   "cell_type": "markdown",
   "metadata": {},
   "source": [
    "### Visualization"
   ]
  },
  {
   "cell_type": "code",
   "execution_count": 16,
   "metadata": {},
   "outputs": [
    {
     "data": {
      "image/png": "[encoded data removed]",
      "text/plain": [
       "<Figure size 1000x600 with 1 Axes>"
      ]
     },
     "metadata": {},
     "output_type": "display_data"
    }
   ],
   "source": [
    "# Plotting the top 10 batsmen based on batting strike rate in the past 3 years.\n",
    "\n",
    "top_10_batsmen_avg.plot(kind='barh', figsize=(10, 6), color='skyblue', edgecolor='black', linewidth=1.2, zorder=2)\n",
    "plt.xlabel('Batting Strike Rate')\n",
    "plt.ylabel('Batsmen')\n",
    "plt.title('Top 10 Batsmen Based on Batting Strike Rate (Past 3 Years)')\n",
    "plt.gca().invert_yaxis()  # Invert y-axis to have the highest average at the top\n",
    "plt.grid(axis='x', linestyle='--', alpha=0.7)\n",
    "plt.show()"
   ]
  },
  {
   "cell_type": "markdown",
   "metadata": {},
   "source": [
    "### Bowling Summary"
   ]
  },
  {
   "cell_type": "code",
   "execution_count": 17,
   "metadata": {},
   "outputs": [
    {
     "data": {
      "text/html": [
       "<div>\n",
       "<style scoped>\n",
       "    .dataframe tbody tr th:only-of-type {\n",
       "        vertical-align: middle;\n",
       "    }\n",
       "\n",
       "    .dataframe tbody tr th {\n",
       "        vertical-align: top;\n",
       "    }\n",
       "\n",
       "    .dataframe thead th {\n",
       "        text-align: right;\n",
       "    }\n",
       "</style>\n",
       "<table border=\"1\" class=\"dataframe\">\n",
       "  <thead>\n",
       "    <tr style=\"text-align: right;\">\n",
       "      <th></th>\n",
       "      <th>match_id</th>\n",
       "      <th>match</th>\n",
       "      <th>bowlingTeam</th>\n",
       "      <th>bowlerName</th>\n",
       "      <th>overs</th>\n",
       "      <th>maiden</th>\n",
       "      <th>runs</th>\n",
       "      <th>wickets</th>\n",
       "      <th>economy</th>\n",
       "      <th>0s</th>\n",
       "      <th>4s</th>\n",
       "      <th>6s</th>\n",
       "      <th>wides</th>\n",
       "      <th>noBalls</th>\n",
       "    </tr>\n",
       "  </thead>\n",
       "  <tbody>\n",
       "    <tr>\n",
       "      <th>0</th>\n",
       "      <td>T203817</td>\n",
       "      <td>Super Kings Vs KKR</td>\n",
       "      <td>KKR</td>\n",
       "      <td>ShakibAlHasan</td>\n",
       "      <td>3.0</td>\n",
       "      <td>0</td>\n",
       "      <td>33</td>\n",
       "      <td>0</td>\n",
       "      <td>11.0</td>\n",
       "      <td>6</td>\n",
       "      <td>2</td>\n",
       "      <td>3</td>\n",
       "      <td>0</td>\n",
       "      <td>0</td>\n",
       "    </tr>\n",
       "    <tr>\n",
       "      <th>1</th>\n",
       "      <td>T203817</td>\n",
       "      <td>Super Kings Vs KKR</td>\n",
       "      <td>KKR</td>\n",
       "      <td>ShivamMavi</td>\n",
       "      <td>4.0</td>\n",
       "      <td>0</td>\n",
       "      <td>32</td>\n",
       "      <td>1</td>\n",
       "      <td>8.0</td>\n",
       "      <td>8</td>\n",
       "      <td>1</td>\n",
       "      <td>2</td>\n",
       "      <td>0</td>\n",
       "      <td>0</td>\n",
       "    </tr>\n",
       "    <tr>\n",
       "      <th>2</th>\n",
       "      <td>T203817</td>\n",
       "      <td>Super Kings Vs KKR</td>\n",
       "      <td>KKR</td>\n",
       "      <td>LockieFerguson</td>\n",
       "      <td>4.0</td>\n",
       "      <td>0</td>\n",
       "      <td>56</td>\n",
       "      <td>0</td>\n",
       "      <td>14.0</td>\n",
       "      <td>4</td>\n",
       "      <td>7</td>\n",
       "      <td>2</td>\n",
       "      <td>2</td>\n",
       "      <td>0</td>\n",
       "    </tr>\n",
       "  </tbody>\n",
       "</table>\n",
       "</div>"
      ],
      "text/plain": [
       "  match_id               match bowlingTeam      bowlerName  overs  maiden  \\\n",
       "0  T203817  Super Kings Vs KKR         KKR   ShakibAlHasan    3.0       0   \n",
       "1  T203817  Super Kings Vs KKR         KKR      ShivamMavi    4.0       0   \n",
       "2  T203817  Super Kings Vs KKR         KKR  LockieFerguson    4.0       0   \n",
       "\n",
       "   runs  wickets  economy  0s  4s  6s  wides  noBalls  \n",
       "0    33        0     11.0   6   2   3      0        0  \n",
       "1    32        1      8.0   8   1   2      0        0  \n",
       "2    56        0     14.0   4   7   2      2        0  "
      ]
     },
     "execution_count": 17,
     "metadata": {},
     "output_type": "execute_result"
    }
   ],
   "source": [
    "# read the bowling_summary dataframe\n",
    "\n",
    "bowling_summary = pd.read_csv('dataset/fact_bowling_summary.csv')\n",
    "bowling_summary.head(3)"
   ]
  },
  {
   "cell_type": "markdown",
   "metadata": {},
   "source": [
    "### Top 10 bowlers based on past 3 years total wickets taken."
   ]
  },
  {
   "cell_type": "code",
   "execution_count": 18,
   "metadata": {},
   "outputs": [
    {
     "data": {
      "text/html": [
       "<div>\n",
       "<style scoped>\n",
       "    .dataframe tbody tr th:only-of-type {\n",
       "        vertical-align: middle;\n",
       "    }\n",
       "\n",
       "    .dataframe tbody tr th {\n",
       "        vertical-align: top;\n",
       "    }\n",
       "\n",
       "    .dataframe thead th {\n",
       "        text-align: right;\n",
       "    }\n",
       "</style>\n",
       "<table border=\"1\" class=\"dataframe\">\n",
       "  <thead>\n",
       "    <tr style=\"text-align: right;\">\n",
       "      <th></th>\n",
       "      <th>Bowler Name</th>\n",
       "      <th>Total Wickets</th>\n",
       "    </tr>\n",
       "  </thead>\n",
       "  <tbody>\n",
       "    <tr>\n",
       "      <th>0</th>\n",
       "      <td>MohammedShami</td>\n",
       "      <td>67</td>\n",
       "    </tr>\n",
       "    <tr>\n",
       "      <th>1</th>\n",
       "      <td>YuzvendraChahal</td>\n",
       "      <td>66</td>\n",
       "    </tr>\n",
       "    <tr>\n",
       "      <th>2</th>\n",
       "      <td>HarshalPatel</td>\n",
       "      <td>65</td>\n",
       "    </tr>\n",
       "    <tr>\n",
       "      <th>3</th>\n",
       "      <td>RashidKhan</td>\n",
       "      <td>63</td>\n",
       "    </tr>\n",
       "    <tr>\n",
       "      <th>4</th>\n",
       "      <td>AveshKhan</td>\n",
       "      <td>47</td>\n",
       "    </tr>\n",
       "    <tr>\n",
       "      <th>5</th>\n",
       "      <td>ArshdeepSingh</td>\n",
       "      <td>45</td>\n",
       "    </tr>\n",
       "    <tr>\n",
       "      <th>6</th>\n",
       "      <td>KagisoRabada</td>\n",
       "      <td>45</td>\n",
       "    </tr>\n",
       "    <tr>\n",
       "      <th>7</th>\n",
       "      <td>VarunChakravarthy</td>\n",
       "      <td>44</td>\n",
       "    </tr>\n",
       "    <tr>\n",
       "      <th>8</th>\n",
       "      <td>ShardulThakur</td>\n",
       "      <td>43</td>\n",
       "    </tr>\n",
       "    <tr>\n",
       "      <th>9</th>\n",
       "      <td>TrentBoult</td>\n",
       "      <td>42</td>\n",
       "    </tr>\n",
       "  </tbody>\n",
       "</table>\n",
       "</div>"
      ],
      "text/plain": [
       "         Bowler Name  Total Wickets\n",
       "0      MohammedShami             67\n",
       "1    YuzvendraChahal             66\n",
       "2       HarshalPatel             65\n",
       "3         RashidKhan             63\n",
       "4          AveshKhan             47\n",
       "5      ArshdeepSingh             45\n",
       "6       KagisoRabada             45\n",
       "7  VarunChakravarthy             44\n",
       "8      ShardulThakur             43\n",
       "9         TrentBoult             42"
      ]
     },
     "execution_count": 18,
     "metadata": {},
     "output_type": "execute_result"
    }
   ],
   "source": [
    "# Assuming bowling_summary is your DataFrame containing bowlers' data and it has columns 'bowlerName' and 'Total wickets'\n",
    "\n",
    "# Assuming top_10_bowlers is already calculated using groupby and nlargest\n",
    "top_10_bowlers = bowling_summary.groupby('bowlerName')['wickets'].sum().nlargest(10)\n",
    "\n",
    "# Convert the Series to DataFrame with specified columns\n",
    "top_10_bowlers_df = pd.DataFrame({'Bowler Name': top_10_bowlers.index,\n",
    "                                  'Total Wickets': top_10_bowlers.values})\n",
    "\n",
    "top_10_bowlers_df\n"
   ]
  },
  {
   "cell_type": "markdown",
   "metadata": {},
   "source": [
    "### Visualization"
   ]
  },
  {
   "cell_type": "code",
   "execution_count": 19,
   "metadata": {},
   "outputs": [
    {
     "data": {
      "image/png": "[encoded data removed]",
      "text/plain": [
       "<Figure size 1000x600 with 1 Axes>"
      ]
     },
     "metadata": {},
     "output_type": "display_data"
    }
   ],
   "source": [
    "# Plotting the top 10 bowlers based on total wickets taken in the past 3 years.\n",
    "\n",
    "top_10_bowlers.plot(kind='barh', figsize=(10, 6), color='skyblue', edgecolor='black', linewidth=1.2, zorder=2)\n",
    "plt.xlabel('Total Wickets')\n",
    "plt.ylabel('Bowlers')\n",
    "plt.title('Top 10 Bowlers Based on Total Wickets (Past 3 Years)')\n",
    "plt.gca().invert_yaxis()  # Invert y-axis to have the highest average at the top\n",
    "plt.grid(axis='x', linestyle='--', alpha=0.7)\n",
    "plt.show()"
   ]
  },
  {
   "cell_type": "markdown",
   "metadata": {},
   "source": [
    "### Merge the bowling summary and match summary DataFrames on Match Id"
   ]
  },
  {
   "cell_type": "code",
   "execution_count": 20,
   "metadata": {},
   "outputs": [
    {
     "data": {
      "text/html": [
       "<div>\n",
       "<style scoped>\n",
       "    .dataframe tbody tr th:only-of-type {\n",
       "        vertical-align: middle;\n",
       "    }\n",
       "\n",
       "    .dataframe tbody tr th {\n",
       "        vertical-align: top;\n",
       "    }\n",
       "\n",
       "    .dataframe thead th {\n",
       "        text-align: right;\n",
       "    }\n",
       "</style>\n",
       "<table border=\"1\" class=\"dataframe\">\n",
       "  <thead>\n",
       "    <tr style=\"text-align: right;\">\n",
       "      <th></th>\n",
       "      <th>match_id</th>\n",
       "      <th>match</th>\n",
       "      <th>bowlingTeam</th>\n",
       "      <th>bowlerName</th>\n",
       "      <th>overs</th>\n",
       "      <th>maiden</th>\n",
       "      <th>runs</th>\n",
       "      <th>wickets</th>\n",
       "      <th>economy</th>\n",
       "      <th>0s</th>\n",
       "      <th>4s</th>\n",
       "      <th>6s</th>\n",
       "      <th>wides</th>\n",
       "      <th>noBalls</th>\n",
       "      <th>matchDate</th>\n",
       "    </tr>\n",
       "  </thead>\n",
       "  <tbody>\n",
       "    <tr>\n",
       "      <th>0</th>\n",
       "      <td>T203817</td>\n",
       "      <td>Super Kings Vs KKR</td>\n",
       "      <td>KKR</td>\n",
       "      <td>ShakibAlHasan</td>\n",
       "      <td>3.0</td>\n",
       "      <td>0</td>\n",
       "      <td>33</td>\n",
       "      <td>0</td>\n",
       "      <td>11.0</td>\n",
       "      <td>6</td>\n",
       "      <td>2</td>\n",
       "      <td>3</td>\n",
       "      <td>0</td>\n",
       "      <td>0</td>\n",
       "      <td>Oct 15, 2021</td>\n",
       "    </tr>\n",
       "    <tr>\n",
       "      <th>1</th>\n",
       "      <td>T203817</td>\n",
       "      <td>Super Kings Vs KKR</td>\n",
       "      <td>KKR</td>\n",
       "      <td>ShivamMavi</td>\n",
       "      <td>4.0</td>\n",
       "      <td>0</td>\n",
       "      <td>32</td>\n",
       "      <td>1</td>\n",
       "      <td>8.0</td>\n",
       "      <td>8</td>\n",
       "      <td>1</td>\n",
       "      <td>2</td>\n",
       "      <td>0</td>\n",
       "      <td>0</td>\n",
       "      <td>Oct 15, 2021</td>\n",
       "    </tr>\n",
       "    <tr>\n",
       "      <th>2</th>\n",
       "      <td>T203817</td>\n",
       "      <td>Super Kings Vs KKR</td>\n",
       "      <td>KKR</td>\n",
       "      <td>LockieFerguson</td>\n",
       "      <td>4.0</td>\n",
       "      <td>0</td>\n",
       "      <td>56</td>\n",
       "      <td>0</td>\n",
       "      <td>14.0</td>\n",
       "      <td>4</td>\n",
       "      <td>7</td>\n",
       "      <td>2</td>\n",
       "      <td>2</td>\n",
       "      <td>0</td>\n",
       "      <td>Oct 15, 2021</td>\n",
       "    </tr>\n",
       "  </tbody>\n",
       "</table>\n",
       "</div>"
      ],
      "text/plain": [
       "  match_id               match bowlingTeam      bowlerName  overs  maiden  \\\n",
       "0  T203817  Super Kings Vs KKR         KKR   ShakibAlHasan    3.0       0   \n",
       "1  T203817  Super Kings Vs KKR         KKR      ShivamMavi    4.0       0   \n",
       "2  T203817  Super Kings Vs KKR         KKR  LockieFerguson    4.0       0   \n",
       "\n",
       "   runs  wickets  economy  0s  4s  6s  wides  noBalls     matchDate  \n",
       "0    33        0     11.0   6   2   3      0        0  Oct 15, 2021  \n",
       "1    32        1      8.0   8   1   2      0        0  Oct 15, 2021  \n",
       "2    56        0     14.0   4   7   2      2        0  Oct 15, 2021  "
      ]
     },
     "execution_count": 20,
     "metadata": {},
     "output_type": "execute_result"
    }
   ],
   "source": [
    "# Merge the bowling_summary and match_summary DataFrames on match_id column\n",
    "\n",
    "bowling_summary = bowling_summary.merge(match_summary[['match_id', 'matchDate']], on='match_id')\n",
    "bowling_summary.head(3)"
   ]
  },
  {
   "cell_type": "markdown",
   "metadata": {},
   "source": [
    "### Convert 'matchDate' column to datetime format"
   ]
  },
  {
   "cell_type": "code",
   "execution_count": 21,
   "metadata": {},
   "outputs": [
    {
     "data": {
      "text/html": [
       "<div>\n",
       "<style scoped>\n",
       "    .dataframe tbody tr th:only-of-type {\n",
       "        vertical-align: middle;\n",
       "    }\n",
       "\n",
       "    .dataframe tbody tr th {\n",
       "        vertical-align: top;\n",
       "    }\n",
       "\n",
       "    .dataframe thead th {\n",
       "        text-align: right;\n",
       "    }\n",
       "</style>\n",
       "<table border=\"1\" class=\"dataframe\">\n",
       "  <thead>\n",
       "    <tr style=\"text-align: right;\">\n",
       "      <th></th>\n",
       "      <th>match_id</th>\n",
       "      <th>match</th>\n",
       "      <th>bowlingTeam</th>\n",
       "      <th>bowlerName</th>\n",
       "      <th>overs</th>\n",
       "      <th>maiden</th>\n",
       "      <th>runs</th>\n",
       "      <th>wickets</th>\n",
       "      <th>economy</th>\n",
       "      <th>0s</th>\n",
       "      <th>4s</th>\n",
       "      <th>6s</th>\n",
       "      <th>wides</th>\n",
       "      <th>noBalls</th>\n",
       "      <th>matchDate</th>\n",
       "    </tr>\n",
       "  </thead>\n",
       "  <tbody>\n",
       "    <tr>\n",
       "      <th>0</th>\n",
       "      <td>T203817</td>\n",
       "      <td>Super Kings Vs KKR</td>\n",
       "      <td>KKR</td>\n",
       "      <td>ShakibAlHasan</td>\n",
       "      <td>3.0</td>\n",
       "      <td>0</td>\n",
       "      <td>33</td>\n",
       "      <td>0</td>\n",
       "      <td>11.0</td>\n",
       "      <td>6</td>\n",
       "      <td>2</td>\n",
       "      <td>3</td>\n",
       "      <td>0</td>\n",
       "      <td>0</td>\n",
       "      <td>2021-10-15</td>\n",
       "    </tr>\n",
       "    <tr>\n",
       "      <th>1</th>\n",
       "      <td>T203817</td>\n",
       "      <td>Super Kings Vs KKR</td>\n",
       "      <td>KKR</td>\n",
       "      <td>ShivamMavi</td>\n",
       "      <td>4.0</td>\n",
       "      <td>0</td>\n",
       "      <td>32</td>\n",
       "      <td>1</td>\n",
       "      <td>8.0</td>\n",
       "      <td>8</td>\n",
       "      <td>1</td>\n",
       "      <td>2</td>\n",
       "      <td>0</td>\n",
       "      <td>0</td>\n",
       "      <td>2021-10-15</td>\n",
       "    </tr>\n",
       "    <tr>\n",
       "      <th>2</th>\n",
       "      <td>T203817</td>\n",
       "      <td>Super Kings Vs KKR</td>\n",
       "      <td>KKR</td>\n",
       "      <td>LockieFerguson</td>\n",
       "      <td>4.0</td>\n",
       "      <td>0</td>\n",
       "      <td>56</td>\n",
       "      <td>0</td>\n",
       "      <td>14.0</td>\n",
       "      <td>4</td>\n",
       "      <td>7</td>\n",
       "      <td>2</td>\n",
       "      <td>2</td>\n",
       "      <td>0</td>\n",
       "      <td>2021-10-15</td>\n",
       "    </tr>\n",
       "  </tbody>\n",
       "</table>\n",
       "</div>"
      ],
      "text/plain": [
       "  match_id               match bowlingTeam      bowlerName  overs  maiden  \\\n",
       "0  T203817  Super Kings Vs KKR         KKR   ShakibAlHasan    3.0       0   \n",
       "1  T203817  Super Kings Vs KKR         KKR      ShivamMavi    4.0       0   \n",
       "2  T203817  Super Kings Vs KKR         KKR  LockieFerguson    4.0       0   \n",
       "\n",
       "   runs  wickets  economy  0s  4s  6s  wides  noBalls  matchDate  \n",
       "0    33        0     11.0   6   2   3      0        0 2021-10-15  \n",
       "1    32        1      8.0   8   1   2      0        0 2021-10-15  \n",
       "2    56        0     14.0   4   7   2      2        0 2021-10-15  "
      ]
     },
     "execution_count": 21,
     "metadata": {},
     "output_type": "execute_result"
    }
   ],
   "source": [
    "# Assuming bowling_summary is your DataFrame\n",
    "# Convert 'matchDate' column to datetime format\n",
    "bowling_summary['matchDate'] = pd.to_datetime(bowling_summary['matchDate'])\n",
    "bowling_summary.head(3)"
   ]
  },
  {
   "cell_type": "markdown",
   "metadata": {},
   "source": [
    "#### Top 10 bowlers based on past 3 years bowling average. (min 60 balls bowled in each season)"
   ]
  },
  {
   "cell_type": "code",
   "execution_count": 22,
   "metadata": {},
   "outputs": [
    {
     "ename": "NameError",
     "evalue": "name 'qualified_bowler' is not defined",
     "output_type": "error",
     "traceback": [
      "\u001b[1;31m---------------------------------------------------------------------------\u001b[0m",
      "\u001b[1;31mNameError\u001b[0m                                 Traceback (most recent call last)",
      "Cell \u001b[1;32mIn[22], line 2\u001b[0m\n\u001b[0;32m      1\u001b[0m \u001b[38;5;66;03m# Calculate the bowling average for each bowler\u001b[39;00m\n\u001b[1;32m----> 2\u001b[0m bowling_average \u001b[38;5;241m=\u001b[39m \u001b[43mqualified_bowler\u001b[49m\u001b[38;5;241m.\u001b[39mgroupby([qualified_bowler[\u001b[38;5;124m'\u001b[39m\u001b[38;5;124mmatchDate\u001b[39m\u001b[38;5;124m'\u001b[39m]\u001b[38;5;241m.\u001b[39mdt\u001b[38;5;241m.\u001b[39myear, \u001b[38;5;124m'\u001b[39m\u001b[38;5;124mbowlerName\u001b[39m\u001b[38;5;124m'\u001b[39m])[[\u001b[38;5;124m'\u001b[39m\u001b[38;5;124mruns\u001b[39m\u001b[38;5;124m'\u001b[39m, \u001b[38;5;124m'\u001b[39m\u001b[38;5;124mwickets\u001b[39m\u001b[38;5;124m'\u001b[39m]]\u001b[38;5;241m.\u001b[39msum()\n\u001b[0;32m      3\u001b[0m bowling_average[\u001b[38;5;124m'\u001b[39m\u001b[38;5;124mbowling_average\u001b[39m\u001b[38;5;124m'\u001b[39m] \u001b[38;5;241m=\u001b[39m bowling_average[\u001b[38;5;124m'\u001b[39m\u001b[38;5;124mruns\u001b[39m\u001b[38;5;124m'\u001b[39m] \u001b[38;5;241m/\u001b[39m bowling_average[\u001b[38;5;124m'\u001b[39m\u001b[38;5;124mwickets\u001b[39m\u001b[38;5;124m'\u001b[39m]\n\u001b[0;32m      5\u001b[0m \u001b[38;5;66;03m# Reshape the data to have years as columns and bowlers as rows\u001b[39;00m\n",
      "\u001b[1;31mNameError\u001b[0m: name 'qualified_bowler' is not defined"
     ]
    }
   ],
   "source": [
    "# Calculate the bowling average for each bowler\n",
    "bowling_average = qualified_bowler.groupby([qualified_bowler['matchDate'].dt.year, 'bowlerName'])[['runs', 'wickets']].sum()\n",
    "bowling_average['bowling_average'] = bowling_average['runs'] / bowling_average['wickets']\n",
    "\n",
    "# Reshape the data to have years as columns and bowlers as rows\n",
    "bowling_average_pivot = bowling_average['bowling_average'].unstack(level=0)\n",
    "\n",
    "# Get the mean across the years for each bowler\n",
    "mean_bowling_average = bowling_average_pivot.mean(axis=1).round(2)\n",
    "\n",
    "# Get the top 10 bowlers based on mean bowling average\n",
    "top_10_bowling_avg = mean_bowling_average.nsmallest(10)  # Assuming bowling average should be smallest\n",
    "\n",
    "# Convert the Series to DataFrame with specified columns\n",
    "top_10_bowling_avg_df = pd.DataFrame({'Bowler Name': top_10_bowling_avg.index,\n",
    "                                      'Avg Bowling Average': top_10_bowling_avg.values})\n",
    "\n",
    "top_10_bowling_avg_df"
   ]
  },
  {
   "cell_type": "markdown",
   "metadata": {},
   "source": [
    "### Visualization"
   ]
  },
  {
   "cell_type": "code",
   "execution_count": null,
   "metadata": {},
   "outputs": [
    {
     "data": {
      "image/png": "[encoded data removed]",
      "text/plain": [
       "<Figure size 1000x600 with 1 Axes>"
      ]
     },
     "metadata": {},
     "output_type": "display_data"
    }
   ],
   "source": [
    "# Plotting the top 10 bowlers based on bowling average in the past 3 years.\n",
    "\n",
    "top_10_bowling_avg.plot(kind='barh', figsize=(10, 6), color='skyblue', edgecolor='black', linewidth=1.2, zorder=2)\n",
    "plt.xlabel('Bowling Average')\n",
    "plt.ylabel('Bowlers')\n",
    "plt.title('Top 10 Bowlers Based on Bowling Average (Past 3 Years)')\n",
    "plt.gca().invert_yaxis()  # Invert y-axis to have the highest average at the top\n",
    "plt.grid(axis='x', linestyle='--', alpha=0.7)\n",
    "plt.show()"
   ]
  },
  {
   "cell_type": "markdown",
   "metadata": {},
   "source": [
    "#### Top 10 bowlers based on past 3 years economy rate. (min 60 balls bowled in each season)"
   ]
  },
  {
   "cell_type": "code",
   "execution_count": null,
   "metadata": {},
   "outputs": [
    {
     "data": {
      "text/html": [
       "<div>\n",
       "<style scoped>\n",
       "    .dataframe tbody tr th:only-of-type {\n",
       "        vertical-align: middle;\n",
       "    }\n",
       "\n",
       "    .dataframe tbody tr th {\n",
       "        vertical-align: top;\n",
       "    }\n",
       "\n",
       "    .dataframe thead th {\n",
       "        text-align: right;\n",
       "    }\n",
       "</style>\n",
       "<table border=\"1\" class=\"dataframe\">\n",
       "  <thead>\n",
       "    <tr style=\"text-align: right;\">\n",
       "      <th></th>\n",
       "      <th>Bowler Name</th>\n",
       "      <th>Avg Eco</th>\n",
       "    </tr>\n",
       "  </thead>\n",
       "  <tbody>\n",
       "    <tr>\n",
       "      <th>0</th>\n",
       "      <td>MoisesHenriques</td>\n",
       "      <td>5.60</td>\n",
       "    </tr>\n",
       "    <tr>\n",
       "      <th>1</th>\n",
       "      <td>NathanCoulter-Nile</td>\n",
       "      <td>6.35</td>\n",
       "    </tr>\n",
       "    <tr>\n",
       "      <th>2</th>\n",
       "      <td>DavidWilley</td>\n",
       "      <td>6.61</td>\n",
       "    </tr>\n",
       "    <tr>\n",
       "      <th>3</th>\n",
       "      <td>MitchellSantner</td>\n",
       "      <td>6.72</td>\n",
       "    </tr>\n",
       "    <tr>\n",
       "      <th>4</th>\n",
       "      <td>SunilNarine</td>\n",
       "      <td>6.72</td>\n",
       "    </tr>\n",
       "    <tr>\n",
       "      <th>5</th>\n",
       "      <td>ShakibAlHasan</td>\n",
       "      <td>7.03</td>\n",
       "    </tr>\n",
       "    <tr>\n",
       "      <th>6</th>\n",
       "      <td>RashidKhan</td>\n",
       "      <td>7.18</td>\n",
       "    </tr>\n",
       "    <tr>\n",
       "      <th>7</th>\n",
       "      <td>AxarPatel</td>\n",
       "      <td>7.22</td>\n",
       "    </tr>\n",
       "    <tr>\n",
       "      <th>8</th>\n",
       "      <td>ChrisWoakes</td>\n",
       "      <td>7.33</td>\n",
       "    </tr>\n",
       "    <tr>\n",
       "      <th>9</th>\n",
       "      <td>JaspritBumrah</td>\n",
       "      <td>7.33</td>\n",
       "    </tr>\n",
       "  </tbody>\n",
       "</table>\n",
       "</div>"
      ],
      "text/plain": [
       "          Bowler Name  Avg Eco\n",
       "0     MoisesHenriques     5.60\n",
       "1  NathanCoulter-Nile     6.35\n",
       "2         DavidWilley     6.61\n",
       "3     MitchellSantner     6.72\n",
       "4         SunilNarine     6.72\n",
       "5       ShakibAlHasan     7.03\n",
       "6          RashidKhan     7.18\n",
       "7           AxarPatel     7.22\n",
       "8         ChrisWoakes     7.33\n",
       "9       JaspritBumrah     7.33"
      ]
     },
     "execution_count": 113,
     "metadata": {},
     "output_type": "execute_result"
    }
   ],
   "source": [
    "# Filter the bowling_summary dataframe to include only the qualified bowlers for each year\n",
    "qualified_bowler = bowling_summary.groupby([bowling_summary['matchDate'].dt.year, 'bowlerName']).filter(lambda x: x['overs'].sum() >= 10)\n",
    "\n",
    "# Calculate the bowling average for each year\n",
    "bowling_average = qualified_bowler.groupby([qualified_bowler['matchDate'].dt.year, 'bowlerName'])['economy'].mean()\n",
    "\n",
    "# Reshape the data to have years as columns and bowlers as rows\n",
    "bowling_average_pivot = bowling_average.unstack(level=0)\n",
    "\n",
    "# Get the mean across the years for each bowler\n",
    "mean_bowling_average = bowling_average_pivot.mean(axis=1).round(2)\n",
    "\n",
    "# Get the top 10 bowlers based on mean bowling average\n",
    "top_10_bowling_avg = mean_bowling_average.nsmallest(10)  # Assuming bowling average should be smallest\n",
    "\n",
    "# Convert the Series to DataFrame with specified columns\n",
    "top_10_bowling_avg_df = pd.DataFrame({'Bowler Name': top_10_bowling_avg.index,\n",
    "                                      'Avg Eco': top_10_bowling_avg.values})\n",
    "\n",
    "top_10_bowling_avg_df"
   ]
  },
  {
   "cell_type": "markdown",
   "metadata": {},
   "source": [
    "### Visualization"
   ]
  },
  {
   "cell_type": "code",
   "execution_count": null,
   "metadata": {},
   "outputs": [
    {
     "data": {
      "image/png": "[encoded data removed]",
      "text/plain": [
       "<Figure size 1000x600 with 1 Axes>"
      ]
     },
     "metadata": {},
     "output_type": "display_data"
    }
   ],
   "source": [
    "# Plotting the top 10 bowlers based on mean bowling average\n",
    "plt.figure(figsize=(10, 6))\n",
    "top_10_bowling_avg.plot(kind='barh', color='skyblue')\n",
    "plt.xlabel('Mean Bowling Economy')\n",
    "plt.ylabel('Bowler Name')\n",
    "plt.title('Top 10 Bowlers Based on Mean Bowling Economy (Past 3 Years)')\n",
    "plt.gca().invert_yaxis()  \n",
    "plt.grid(axis='x', linestyle='--', alpha=0.7)\n",
    "plt.show()\n"
   ]
  },
  {
   "cell_type": "markdown",
   "metadata": {},
   "source": [
    "### Bating Summary "
   ]
  },
  {
   "cell_type": "code",
   "execution_count": null,
   "metadata": {},
   "outputs": [
    {
     "data": {
      "text/html": [
       "<div>\n",
       "<style scoped>\n",
       "    .dataframe tbody tr th:only-of-type {\n",
       "        vertical-align: middle;\n",
       "    }\n",
       "\n",
       "    .dataframe tbody tr th {\n",
       "        vertical-align: top;\n",
       "    }\n",
       "\n",
       "    .dataframe thead th {\n",
       "        text-align: right;\n",
       "    }\n",
       "</style>\n",
       "<table border=\"1\" class=\"dataframe\">\n",
       "  <thead>\n",
       "    <tr style=\"text-align: right;\">\n",
       "      <th></th>\n",
       "      <th>match_id</th>\n",
       "      <th>match</th>\n",
       "      <th>teamInnings</th>\n",
       "      <th>battingPos</th>\n",
       "      <th>batsmanName</th>\n",
       "      <th>out/not_out</th>\n",
       "      <th>runs</th>\n",
       "      <th>balls</th>\n",
       "      <th>4s</th>\n",
       "      <th>6s</th>\n",
       "      <th>SR</th>\n",
       "    </tr>\n",
       "  </thead>\n",
       "  <tbody>\n",
       "    <tr>\n",
       "      <th>0</th>\n",
       "      <td>T203817</td>\n",
       "      <td>Super Kings Vs KKR</td>\n",
       "      <td>Super Kings</td>\n",
       "      <td>1</td>\n",
       "      <td>RuturajGaikwad</td>\n",
       "      <td>out</td>\n",
       "      <td>32</td>\n",
       "      <td>27</td>\n",
       "      <td>3</td>\n",
       "      <td>1</td>\n",
       "      <td>118.51</td>\n",
       "    </tr>\n",
       "    <tr>\n",
       "      <th>1</th>\n",
       "      <td>T203817</td>\n",
       "      <td>Super Kings Vs KKR</td>\n",
       "      <td>Super Kings</td>\n",
       "      <td>2</td>\n",
       "      <td>FafduPlessis</td>\n",
       "      <td>out</td>\n",
       "      <td>86</td>\n",
       "      <td>59</td>\n",
       "      <td>7</td>\n",
       "      <td>3</td>\n",
       "      <td>145.76</td>\n",
       "    </tr>\n",
       "    <tr>\n",
       "      <th>2</th>\n",
       "      <td>T203817</td>\n",
       "      <td>Super Kings Vs KKR</td>\n",
       "      <td>Super Kings</td>\n",
       "      <td>3</td>\n",
       "      <td>RobinUthappa</td>\n",
       "      <td>out</td>\n",
       "      <td>31</td>\n",
       "      <td>15</td>\n",
       "      <td>0</td>\n",
       "      <td>3</td>\n",
       "      <td>206.66</td>\n",
       "    </tr>\n",
       "  </tbody>\n",
       "</table>\n",
       "</div>"
      ],
      "text/plain": [
       "  match_id               match  teamInnings  battingPos     batsmanName  \\\n",
       "0  T203817  Super Kings Vs KKR  Super Kings           1  RuturajGaikwad   \n",
       "1  T203817  Super Kings Vs KKR  Super Kings           2    FafduPlessis   \n",
       "2  T203817  Super Kings Vs KKR  Super Kings           3    RobinUthappa   \n",
       "\n",
       "  out/not_out  runs  balls  4s  6s      SR  \n",
       "0         out    32     27   3   1  118.51  \n",
       "1         out    86     59   7   3  145.76  \n",
       "2         out    31     15   0   3  206.66  "
      ]
     },
     "execution_count": 117,
     "metadata": {},
     "output_type": "execute_result"
    }
   ],
   "source": [
    "data = pd.read_csv('dataset/fact_bating_summary.csv')\n",
    "data.head(3)"
   ]
  },
  {
   "cell_type": "markdown",
   "metadata": {},
   "source": [
    "#### Top 5 batsmen based on past 3 years boundary % (fours and sixes)."
   ]
  },
  {
   "cell_type": "code",
   "execution_count": null,
   "metadata": {},
   "outputs": [
    {
     "data": {
      "text/html": [
       "<div>\n",
       "<style scoped>\n",
       "    .dataframe tbody tr th:only-of-type {\n",
       "        vertical-align: middle;\n",
       "    }\n",
       "\n",
       "    .dataframe tbody tr th {\n",
       "        vertical-align: top;\n",
       "    }\n",
       "\n",
       "    .dataframe thead th {\n",
       "        text-align: right;\n",
       "    }\n",
       "</style>\n",
       "<table border=\"1\" class=\"dataframe\">\n",
       "  <thead>\n",
       "    <tr style=\"text-align: right;\">\n",
       "      <th></th>\n",
       "      <th>Batsman Name</th>\n",
       "      <th>Boundary %</th>\n",
       "    </tr>\n",
       "  </thead>\n",
       "  <tbody>\n",
       "    <tr>\n",
       "      <th>0</th>\n",
       "      <td>MarkWood</td>\n",
       "      <td>40.00</td>\n",
       "    </tr>\n",
       "    <tr>\n",
       "      <th>1</th>\n",
       "      <td>AkashDeep</td>\n",
       "      <td>30.00</td>\n",
       "    </tr>\n",
       "    <tr>\n",
       "      <th>2</th>\n",
       "      <td>PatCummins</td>\n",
       "      <td>30.00</td>\n",
       "    </tr>\n",
       "    <tr>\n",
       "      <th>3</th>\n",
       "      <td>DavidWiese</td>\n",
       "      <td>27.27</td>\n",
       "    </tr>\n",
       "    <tr>\n",
       "      <th>4</th>\n",
       "      <td>RashidKhan</td>\n",
       "      <td>25.58</td>\n",
       "    </tr>\n",
       "  </tbody>\n",
       "</table>\n",
       "</div>"
      ],
      "text/plain": [
       "  Batsman Name  Boundary %\n",
       "0     MarkWood       40.00\n",
       "1    AkashDeep       30.00\n",
       "2   PatCummins       30.00\n",
       "3   DavidWiese       27.27\n",
       "4   RashidKhan       25.58"
      ]
     },
     "execution_count": 120,
     "metadata": {},
     "output_type": "execute_result"
    }
   ],
   "source": [
    "# Assuming your data is stored in a DataFrame named 'data'\n",
    "\n",
    "# Calculate total boundaries (4s and 6s) for each batsman\n",
    "boundary_count = data.groupby('batsmanName')[['4s', '6s']].sum()\n",
    "\n",
    "# Calculate total balls faced by each batsman\n",
    "balls_faced = data.groupby('batsmanName')['balls'].sum()\n",
    "\n",
    "# Calculate boundary percentage for each batsman\n",
    "boundary_percentage = ((boundary_count['4s'] + boundary_count['6s']) / balls_faced * 100).round(2)\n",
    "\n",
    "# Sort batsmen based on boundary percentage and select top 5\n",
    "top_5_boundary_percent = boundary_percentage.nlargest(5)\n",
    "\n",
    "# Convert the Series to DataFrame with specified columns\n",
    "top_5_boundary_percent_df = pd.DataFrame({'Batsman Name': top_5_boundary_percent.index,\n",
    "                                         'Boundary %': top_5_boundary_percent.values})\n",
    "\n",
    "top_5_boundary_percent_df"
   ]
  },
  {
   "cell_type": "markdown",
   "metadata": {},
   "source": [
    "#### Bowling Summary"
   ]
  },
  {
   "cell_type": "code",
   "execution_count": 23,
   "metadata": {},
   "outputs": [
    {
     "data": {
      "text/html": [
       "<div>\n",
       "<style scoped>\n",
       "    .dataframe tbody tr th:only-of-type {\n",
       "        vertical-align: middle;\n",
       "    }\n",
       "\n",
       "    .dataframe tbody tr th {\n",
       "        vertical-align: top;\n",
       "    }\n",
       "\n",
       "    .dataframe thead th {\n",
       "        text-align: right;\n",
       "    }\n",
       "</style>\n",
       "<table border=\"1\" class=\"dataframe\">\n",
       "  <thead>\n",
       "    <tr style=\"text-align: right;\">\n",
       "      <th></th>\n",
       "      <th>match_id</th>\n",
       "      <th>match</th>\n",
       "      <th>bowlingTeam</th>\n",
       "      <th>bowlerName</th>\n",
       "      <th>overs</th>\n",
       "      <th>maiden</th>\n",
       "      <th>runs</th>\n",
       "      <th>wickets</th>\n",
       "      <th>economy</th>\n",
       "      <th>0s</th>\n",
       "      <th>4s</th>\n",
       "      <th>6s</th>\n",
       "      <th>wides</th>\n",
       "      <th>noBalls</th>\n",
       "    </tr>\n",
       "  </thead>\n",
       "  <tbody>\n",
       "    <tr>\n",
       "      <th>0</th>\n",
       "      <td>T203817</td>\n",
       "      <td>Super Kings Vs KKR</td>\n",
       "      <td>KKR</td>\n",
       "      <td>ShakibAlHasan</td>\n",
       "      <td>3.0</td>\n",
       "      <td>0</td>\n",
       "      <td>33</td>\n",
       "      <td>0</td>\n",
       "      <td>11.0</td>\n",
       "      <td>6</td>\n",
       "      <td>2</td>\n",
       "      <td>3</td>\n",
       "      <td>0</td>\n",
       "      <td>0</td>\n",
       "    </tr>\n",
       "    <tr>\n",
       "      <th>1</th>\n",
       "      <td>T203817</td>\n",
       "      <td>Super Kings Vs KKR</td>\n",
       "      <td>KKR</td>\n",
       "      <td>ShivamMavi</td>\n",
       "      <td>4.0</td>\n",
       "      <td>0</td>\n",
       "      <td>32</td>\n",
       "      <td>1</td>\n",
       "      <td>8.0</td>\n",
       "      <td>8</td>\n",
       "      <td>1</td>\n",
       "      <td>2</td>\n",
       "      <td>0</td>\n",
       "      <td>0</td>\n",
       "    </tr>\n",
       "    <tr>\n",
       "      <th>2</th>\n",
       "      <td>T203817</td>\n",
       "      <td>Super Kings Vs KKR</td>\n",
       "      <td>KKR</td>\n",
       "      <td>LockieFerguson</td>\n",
       "      <td>4.0</td>\n",
       "      <td>0</td>\n",
       "      <td>56</td>\n",
       "      <td>0</td>\n",
       "      <td>14.0</td>\n",
       "      <td>4</td>\n",
       "      <td>7</td>\n",
       "      <td>2</td>\n",
       "      <td>2</td>\n",
       "      <td>0</td>\n",
       "    </tr>\n",
       "  </tbody>\n",
       "</table>\n",
       "</div>"
      ],
      "text/plain": [
       "  match_id               match bowlingTeam      bowlerName  overs  maiden  \\\n",
       "0  T203817  Super Kings Vs KKR         KKR   ShakibAlHasan    3.0       0   \n",
       "1  T203817  Super Kings Vs KKR         KKR      ShivamMavi    4.0       0   \n",
       "2  T203817  Super Kings Vs KKR         KKR  LockieFerguson    4.0       0   \n",
       "\n",
       "   runs  wickets  economy  0s  4s  6s  wides  noBalls  \n",
       "0    33        0     11.0   6   2   3      0        0  \n",
       "1    32        1      8.0   8   1   2      0        0  \n",
       "2    56        0     14.0   4   7   2      2        0  "
      ]
     },
     "execution_count": 23,
     "metadata": {},
     "output_type": "execute_result"
    }
   ],
   "source": [
    "# read the bowling_summary dataframe\n",
    "\n",
    "data = pd.read_csv('dataset/fact_bowling_summary.csv')\n",
    "data.head(3)"
   ]
  },
  {
   "cell_type": "markdown",
   "metadata": {},
   "source": [
    "### Top 5 bowlers based on past 3 years dot ball %."
   ]
  },
  {
   "cell_type": "code",
   "execution_count": 24,
   "metadata": {},
   "outputs": [
    {
     "data": {
      "text/html": [
       "<div>\n",
       "<style scoped>\n",
       "    .dataframe tbody tr th:only-of-type {\n",
       "        vertical-align: middle;\n",
       "    }\n",
       "\n",
       "    .dataframe tbody tr th {\n",
       "        vertical-align: top;\n",
       "    }\n",
       "\n",
       "    .dataframe thead th {\n",
       "        text-align: right;\n",
       "    }\n",
       "</style>\n",
       "<table border=\"1\" class=\"dataframe\">\n",
       "  <thead>\n",
       "    <tr style=\"text-align: right;\">\n",
       "      <th></th>\n",
       "      <th>Bowler Name</th>\n",
       "      <th>Dot Ball %</th>\n",
       "    </tr>\n",
       "  </thead>\n",
       "  <tbody>\n",
       "    <tr>\n",
       "      <th>0</th>\n",
       "      <td>ShreyasIyer</td>\n",
       "      <td>66.67</td>\n",
       "    </tr>\n",
       "    <tr>\n",
       "      <th>1</th>\n",
       "      <td>ImranTahir</td>\n",
       "      <td>58.33</td>\n",
       "    </tr>\n",
       "    <tr>\n",
       "      <th>2</th>\n",
       "      <td>ReeceTopley</td>\n",
       "      <td>58.33</td>\n",
       "    </tr>\n",
       "    <tr>\n",
       "      <th>3</th>\n",
       "      <td>DewaldBrevis</td>\n",
       "      <td>55.56</td>\n",
       "    </tr>\n",
       "    <tr>\n",
       "      <th>4</th>\n",
       "      <td>SimarjeetSingh</td>\n",
       "      <td>52.78</td>\n",
       "    </tr>\n",
       "  </tbody>\n",
       "</table>\n",
       "</div>"
      ],
      "text/plain": [
       "      Bowler Name  Dot Ball %\n",
       "0     ShreyasIyer       66.67\n",
       "1      ImranTahir       58.33\n",
       "2     ReeceTopley       58.33\n",
       "3    DewaldBrevis       55.56\n",
       "4  SimarjeetSingh       52.78"
      ]
     },
     "execution_count": 24,
     "metadata": {},
     "output_type": "execute_result"
    }
   ],
   "source": [
    "\n",
    "# Assuming your data is stored in a DataFrame named 'data'\n",
    "\n",
    "# Calculate total dot balls for each bowler\n",
    "dot_balls_count = data.groupby('bowlerName')['0s'].sum()\n",
    "\n",
    "# Calculate total deliveries bowled by each bowler\n",
    "total_deliveries = data.groupby('bowlerName')['overs'].sum() * 6  # Convert overs to balls\n",
    "\n",
    "# Calculate dot ball percentage for each bowler\n",
    "dot_ball_percentage = ((dot_balls_count / total_deliveries) * 100).round(2)\n",
    "\n",
    "# Sort bowlers based on dot ball percentage and select top 5\n",
    "top_5_dot_ball_percent = dot_ball_percentage.nlargest(5)\n",
    "\n",
    "# Convert the Series to DataFrame with specified columns\n",
    "top_5_dot_ball_percent_df = pd.DataFrame({'Bowler Name': top_5_dot_ball_percent.index,\n",
    "                                         'Dot Ball %': top_5_dot_ball_percent.values})\n",
    "\n",
    "top_5_dot_ball_percent_df\n"
   ]
  },
  {
   "cell_type": "markdown",
   "metadata": {},
   "source": [
    "### Visualization"
   ]
  },
  {
   "cell_type": "code",
   "execution_count": 25,
   "metadata": {},
   "outputs": [
    {
     "data": {
      "image/png": "[encoded data removed]",
      "text/plain": [
       "<Figure size 1000x600 with 1 Axes>"
      ]
     },
     "metadata": {},
     "output_type": "display_data"
    }
   ],
   "source": [
    "# Plotting the top 5 bowlers based on dot ball percentage\n",
    "plt.figure(figsize=(10, 6))\n",
    "top_5_dot_ball_percent.plot(kind='barh', color='skyblue')\n",
    "plt.xlabel('Dot Ball Percentage')\n",
    "plt.ylabel('Bowler Name')\n",
    "plt.title('Top 5 Bowlers Based on Dot Ball Percentage (Past 3 Years)')\n",
    "plt.gca().invert_yaxis()\n",
    "plt.grid(axis='x', linestyle='--', alpha=0.7)\n",
    "plt.show()\n"
   ]
  },
  {
   "cell_type": "markdown",
   "metadata": {},
   "source": [
    "# Match Summary"
   ]
  },
  {
   "cell_type": "code",
   "execution_count": 26,
   "metadata": {},
   "outputs": [
    {
     "data": {
      "text/html": [
       "<div>\n",
       "<style scoped>\n",
       "    .dataframe tbody tr th:only-of-type {\n",
       "        vertical-align: middle;\n",
       "    }\n",
       "\n",
       "    .dataframe tbody tr th {\n",
       "        vertical-align: top;\n",
       "    }\n",
       "\n",
       "    .dataframe thead th {\n",
       "        text-align: right;\n",
       "    }\n",
       "</style>\n",
       "<table border=\"1\" class=\"dataframe\">\n",
       "  <thead>\n",
       "    <tr style=\"text-align: right;\">\n",
       "      <th></th>\n",
       "      <th>team1</th>\n",
       "      <th>team2</th>\n",
       "      <th>winner</th>\n",
       "      <th>margin</th>\n",
       "      <th>matchDate</th>\n",
       "      <th>match_id</th>\n",
       "    </tr>\n",
       "  </thead>\n",
       "  <tbody>\n",
       "    <tr>\n",
       "      <th>0</th>\n",
       "      <td>Super Kings</td>\n",
       "      <td>KKR</td>\n",
       "      <td>Super Kings</td>\n",
       "      <td>27 runs</td>\n",
       "      <td>Oct 15, 2021</td>\n",
       "      <td>T203817</td>\n",
       "    </tr>\n",
       "    <tr>\n",
       "      <th>1</th>\n",
       "      <td>Capitals</td>\n",
       "      <td>KKR</td>\n",
       "      <td>KKR</td>\n",
       "      <td>3 wickets</td>\n",
       "      <td>Oct 13, 2021</td>\n",
       "      <td>T206442</td>\n",
       "    </tr>\n",
       "    <tr>\n",
       "      <th>2</th>\n",
       "      <td>RCB</td>\n",
       "      <td>KKR</td>\n",
       "      <td>KKR</td>\n",
       "      <td>4 wickets</td>\n",
       "      <td>Oct 11, 2021</td>\n",
       "      <td>T208597</td>\n",
       "    </tr>\n",
       "  </tbody>\n",
       "</table>\n",
       "</div>"
      ],
      "text/plain": [
       "         team1 team2       winner     margin     matchDate match_id\n",
       "0  Super Kings   KKR  Super Kings    27 runs  Oct 15, 2021  T203817\n",
       "1     Capitals   KKR          KKR  3 wickets  Oct 13, 2021  T206442\n",
       "2          RCB   KKR          KKR  4 wickets  Oct 11, 2021  T208597"
      ]
     },
     "execution_count": 26,
     "metadata": {},
     "output_type": "execute_result"
    }
   ],
   "source": [
    "# read the match_summary dataframe\n",
    "\n",
    "data= pd.read_csv('dataset/dim_match_summary.csv')\n",
    "data.head(3)"
   ]
  },
  {
   "cell_type": "markdown",
   "metadata": {},
   "source": [
    "### Top 4 teams based on past 3 years winning %."
   ]
  },
  {
   "cell_type": "code",
   "execution_count": 27,
   "metadata": {},
   "outputs": [
    {
     "data": {
      "text/plain": [
       "Index(['team1', 'team2', 'winner', 'margin', 'matchDate', 'match_id'], dtype='object')"
      ]
     },
     "execution_count": 27,
     "metadata": {},
     "output_type": "execute_result"
    }
   ],
   "source": [
    "match_summary.columns"
   ]
  },
  {
   "cell_type": "code",
   "execution_count": 28,
   "metadata": {},
   "outputs": [
    {
     "data": {
      "text/plain": [
       "team1         Super Kings\n",
       "team2                 KKR\n",
       "winner        Super Kings\n",
       "margin            27 runs\n",
       "matchDate    Oct 15, 2021\n",
       "match_id          T203817\n",
       "Name: 0, dtype: object"
      ]
     },
     "execution_count": 28,
     "metadata": {},
     "output_type": "execute_result"
    }
   ],
   "source": [
    "match_summary.iloc[0]"
   ]
  },
  {
   "cell_type": "code",
   "execution_count": 29,
   "metadata": {},
   "outputs": [
    {
     "data": {
      "text/html": [
       "<div>\n",
       "<style scoped>\n",
       "    .dataframe tbody tr th:only-of-type {\n",
       "        vertical-align: middle;\n",
       "    }\n",
       "\n",
       "    .dataframe tbody tr th {\n",
       "        vertical-align: top;\n",
       "    }\n",
       "\n",
       "    .dataframe thead th {\n",
       "        text-align: right;\n",
       "    }\n",
       "</style>\n",
       "<table border=\"1\" class=\"dataframe\">\n",
       "  <thead>\n",
       "    <tr style=\"text-align: right;\">\n",
       "      <th></th>\n",
       "      <th>Team</th>\n",
       "      <th>Winning %</th>\n",
       "    </tr>\n",
       "  </thead>\n",
       "  <tbody>\n",
       "    <tr>\n",
       "      <th>0</th>\n",
       "      <td>Titans</td>\n",
       "      <td>69.70</td>\n",
       "    </tr>\n",
       "    <tr>\n",
       "      <th>1</th>\n",
       "      <td>Super Giants</td>\n",
       "      <td>58.62</td>\n",
       "    </tr>\n",
       "    <tr>\n",
       "      <th>2</th>\n",
       "      <td>RCB</td>\n",
       "      <td>55.56</td>\n",
       "    </tr>\n",
       "    <tr>\n",
       "      <th>3</th>\n",
       "      <td>Super Kings</td>\n",
       "      <td>55.56</td>\n",
       "    </tr>\n",
       "  </tbody>\n",
       "</table>\n",
       "</div>"
      ],
      "text/plain": [
       "           Team  Winning %\n",
       "0        Titans      69.70\n",
       "1  Super Giants      58.62\n",
       "2           RCB      55.56\n",
       "3   Super Kings      55.56"
      ]
     },
     "execution_count": 29,
     "metadata": {},
     "output_type": "execute_result"
    }
   ],
   "source": [
    "# Assuming your data is stored in a DataFrame named 'data'\n",
    "\n",
    "# Calculate total matches played by each team\n",
    "matches_played = data['team1'].value_counts() + data['team2'].value_counts()\n",
    "\n",
    "# Calculate total matches won by each team\n",
    "matches_won = data['winner'].value_counts()\n",
    "\n",
    "# Calculate winning percentage for each team\n",
    "winning_percentage = ((matches_won / matches_played) * 100).round(2)\n",
    "\n",
    "# Sort teams based on winning percentage and select top 4\n",
    "top_4_teams = winning_percentage.nlargest(4)\n",
    "\n",
    "# Convert the Series to DataFrame with specified columns\n",
    "top_4_teams_df = pd.DataFrame({'Team': top_4_teams.index,\n",
    "                               'Winning %': top_4_teams.values})\n",
    "\n",
    "top_4_teams_df\n"
   ]
  },
  {
   "cell_type": "code",
   "execution_count": 30,
   "metadata": {},
   "outputs": [
    {
     "data": {
      "image/png": "[encoded data removed]",
      "text/plain": [
       "<Figure size 1000x600 with 1 Axes>"
      ]
     },
     "metadata": {},
     "output_type": "display_data"
    }
   ],
   "source": [
    "# Plotting the top 4 teams based on winning percentage\n",
    "plt.figure(figsize=(10, 6))\n",
    "top_4_teams.plot(kind='barh', color='skyblue')\n",
    "plt.xlabel('Winning Percentage')\n",
    "plt.ylabel('Team Name')\n",
    "plt.title('Top 4 Teams Based on Winning Percentage (Past 3 Years)')\n",
    "plt.gca().invert_yaxis()\n",
    "plt.grid(axis='x', linestyle='--', alpha=0.7)\n",
    "plt.show()"
   ]
  },
  {
   "cell_type": "code",
   "execution_count": 31,
   "metadata": {},
   "outputs": [
    {
     "data": {
      "text/html": [
       "<div>\n",
       "<style scoped>\n",
       "    .dataframe tbody tr th:only-of-type {\n",
       "        vertical-align: middle;\n",
       "    }\n",
       "\n",
       "    .dataframe tbody tr th {\n",
       "        vertical-align: top;\n",
       "    }\n",
       "\n",
       "    .dataframe thead th {\n",
       "        text-align: right;\n",
       "    }\n",
       "</style>\n",
       "<table border=\"1\" class=\"dataframe\">\n",
       "  <thead>\n",
       "    <tr style=\"text-align: right;\">\n",
       "      <th></th>\n",
       "      <th>team1</th>\n",
       "      <th>team2</th>\n",
       "      <th>winner</th>\n",
       "      <th>margin</th>\n",
       "      <th>matchDate</th>\n",
       "      <th>match_id</th>\n",
       "    </tr>\n",
       "  </thead>\n",
       "  <tbody>\n",
       "    <tr>\n",
       "      <th>0</th>\n",
       "      <td>Super Kings</td>\n",
       "      <td>KKR</td>\n",
       "      <td>Super Kings</td>\n",
       "      <td>27 runs</td>\n",
       "      <td>Oct 15, 2021</td>\n",
       "      <td>T203817</td>\n",
       "    </tr>\n",
       "    <tr>\n",
       "      <th>1</th>\n",
       "      <td>Capitals</td>\n",
       "      <td>KKR</td>\n",
       "      <td>KKR</td>\n",
       "      <td>3 wickets</td>\n",
       "      <td>Oct 13, 2021</td>\n",
       "      <td>T206442</td>\n",
       "    </tr>\n",
       "    <tr>\n",
       "      <th>2</th>\n",
       "      <td>RCB</td>\n",
       "      <td>KKR</td>\n",
       "      <td>KKR</td>\n",
       "      <td>4 wickets</td>\n",
       "      <td>Oct 11, 2021</td>\n",
       "      <td>T208597</td>\n",
       "    </tr>\n",
       "  </tbody>\n",
       "</table>\n",
       "</div>"
      ],
      "text/plain": [
       "         team1 team2       winner     margin     matchDate match_id\n",
       "0  Super Kings   KKR  Super Kings    27 runs  Oct 15, 2021  T203817\n",
       "1     Capitals   KKR          KKR  3 wickets  Oct 13, 2021  T206442\n",
       "2          RCB   KKR          KKR  4 wickets  Oct 11, 2021  T208597"
      ]
     },
     "execution_count": 31,
     "metadata": {},
     "output_type": "execute_result"
    }
   ],
   "source": [
    "match_summary = pd.read_csv('dataset/dim_match_summary.csv')\n",
    "match_summary.head(3)"
   ]
  },
  {
   "cell_type": "markdown",
   "metadata": {},
   "source": [
    "### Top 3 teams with the highest number of wins achieved by chasing targets"
   ]
  },
  {
   "cell_type": "code",
   "execution_count": 41,
   "metadata": {},
   "outputs": [
    {
     "data": {
      "text/html": [
       "<div>\n",
       "<style scoped>\n",
       "    .dataframe tbody tr th:only-of-type {\n",
       "        vertical-align: middle;\n",
       "    }\n",
       "\n",
       "    .dataframe tbody tr th {\n",
       "        vertical-align: top;\n",
       "    }\n",
       "\n",
       "    .dataframe thead th {\n",
       "        text-align: right;\n",
       "    }\n",
       "</style>\n",
       "<table border=\"1\" class=\"dataframe\">\n",
       "  <thead>\n",
       "    <tr style=\"text-align: right;\">\n",
       "      <th></th>\n",
       "      <th>Team</th>\n",
       "      <th>Matches Won While Chasing</th>\n",
       "    </tr>\n",
       "  </thead>\n",
       "  <tbody>\n",
       "    <tr>\n",
       "      <th>0</th>\n",
       "      <td>KKR</td>\n",
       "      <td>14</td>\n",
       "    </tr>\n",
       "    <tr>\n",
       "      <th>1</th>\n",
       "      <td>Capitals</td>\n",
       "      <td>14</td>\n",
       "    </tr>\n",
       "    <tr>\n",
       "      <th>2</th>\n",
       "      <td>Titans</td>\n",
       "      <td>14</td>\n",
       "    </tr>\n",
       "  </tbody>\n",
       "</table>\n",
       "</div>"
      ],
      "text/plain": [
       "       Team  Matches Won While Chasing\n",
       "0       KKR                         14\n",
       "1  Capitals                         14\n",
       "2    Titans                         14"
      ]
     },
     "execution_count": 41,
     "metadata": {},
     "output_type": "execute_result"
    }
   ],
   "source": [
    "from collections import defaultdict\n",
    "\n",
    "# Filter matches where the winner is not the team batting first (chasing targets)\n",
    "chasing_matches = match_summary[match_summary['team1'] != match_summary['winner']]\n",
    "\n",
    "# Create a dictionary to store the number of matches won by each team while chasing\n",
    "team_wins = defaultdict(int)\n",
    "for match in chasing_matches:\n",
    "    team_wins[match[2]] += 1\n",
    "    \n",
    "team_wins = chasing_matches['winner'].value_counts()\n",
    "\n",
    "# Sort the dictionary based on the number of matches won while chasing\n",
    "sorted_team_wins = dict(sorted(team_wins.items(), key=lambda x: x[1], reverse=True))\n",
    "\n",
    "# Convert the dictionary to a DataFrame\n",
    "team_wins_df = pd.DataFrame({'Team': list(sorted_team_wins.keys()),\n",
    "                             'Matches Won While Chasing': list(sorted_team_wins.values())})\n",
    "\n",
    "team_wins_df.head(3)"
   ]
  },
  {
   "cell_type": "markdown",
   "metadata": {},
   "source": [
    "### Visualization"
   ]
  },
  {
   "cell_type": "code",
   "execution_count": 43,
   "metadata": {},
   "outputs": [
    {
     "data": {
      "text/plain": [
       "<Figure size 1000x600 with 0 Axes>"
      ]
     },
     "metadata": {},
     "output_type": "display_data"
    },
    {
     "data": {
      "image/png": "[encoded data removed]",
      "text/plain": [
       "<Figure size 640x480 with 1 Axes>"
      ]
     },
     "metadata": {},
     "output_type": "display_data"
    }
   ],
   "source": [
    "# Plotting the top 4 teams based on matches won while chasing targets\n",
    "plt.figure(figsize=(10, 6))\n",
    "team_wins_df.head(3).plot(kind='barh', x='Team', y='Matches Won While Chasing', color='skyblue')\n",
    "plt.xlabel('Matches Won While Chasing')\n",
    "plt.ylabel('Team Name')\n",
    "plt.title('Top 4 Teams Based on Matches Won While Chasing (Past 3 Years)')\n",
    "plt.gca().invert_yaxis()\n",
    "plt.grid(axis='x', linestyle='--', alpha=0.7)\n",
    "plt.show()\n"
   ]
  },
  {
   "cell_type": "markdown",
   "metadata": {},
   "source": [
    "# Predictions for IPL 2024 Season\n",
    "\n",
    "## 1. Orange and Purple Cap Players\n",
    "Based on available data and additional research, the top contenders for the Orange Cap (most runs) and Purple Cap (most wickets) in IPL 2024 are expected to be:\n",
    "\n",
    "- **Orange Cap Player:** [Name of Player]\n",
    "- **Purple Cap Player:** [Name of Player]\n",
    "\n",
    "## 2. Top 4 Qualifying Teams\n",
    "Considering team performance, player dynamics, and recent trends, the top 4 qualifying teams for IPL 2024 are likely to be:\n",
    "\n",
    "1. [Team 1]\n",
    "2. [Team 2]\n",
    "3. [Team 3]\n",
    "4. [Team 4]\n",
    "\n",
    "## 3. Winner and Runner-Up\n",
    "The winner and runner-up for IPL 2024 could potentially be:\n",
    "\n",
    "- **Winner:** [Team Name]\n",
    "- **Runner-Up:** [Team Name]\n",
    "\n",
    "## 4. Your Picks: Best 11 Players\n",
    "Utilizing a combination of player positions, performance over the past three years, and additional research, the following lineup could be considered as the Best 11 for IPL 2024:\n",
    "\n",
    "1. [Batsman 1]\n",
    "2. [Batsman 2]\n",
    "3. [All-Rounder 1]\n",
    "4. [Wicketkeeper-Batsman]\n",
    "5. [All-Rounder 2]\n",
    "6. [Bowler 1]\n",
    "7. [Bowler 2]\n",
    "8. [Bowler 3]\n",
    "9. [Bowler 4]\n",
    "10. [Bowler 5]\n",
    "11. [Bowler 6]\n",
    "\n",
    "## 5. Pick Your Top 3 All-Rounders\n",
    "Identifying versatile players crucial for any team's success, the top 3 all-rounders for IPL 2024 could be:\n",
    "\n",
    "1. [All-Rounder 1]\n",
    "2. [All-Rounder 2]\n",
    "3. [All-Rounder 3]\n"
   ]
  },
  {
   "cell_type": "code",
   "execution_count": null,
   "metadata": {},
   "outputs": [],
   "source": []
  },
  {
   "cell_type": "code",
   "execution_count": null,
   "metadata": {},
   "outputs": [],
   "source": []
  }
 ],
 "metadata": {
  "kernelspec": {
   "display_name": "Python 3",
   "language": "python",
   "name": "python3"
  },
  "language_info": {
   "codemirror_mode": {
    "name": "ipython",
    "version": 3
   },
   "file_extension": ".py",
   "mimetype": "text/x-python",
   "name": "python",
   "nbconvert_exporter": "python",
   "pygments_lexer": "ipython3",
   "version": "3.10.0"
  }
 },
 "nbformat": 4,
 "nbformat_minor": 2
}
